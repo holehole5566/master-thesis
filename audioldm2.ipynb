{
  "nbformat": 4,
  "nbformat_minor": 0,
  "metadata": {
    "colab": {
      "provenance": [],
      "gpuType": "T4",
      "authorship_tag": "ABX9TyO8GCsI0kUwU13FAj0MHBLJ",
      "include_colab_link": true
    },
    "kernelspec": {
      "name": "python3",
      "display_name": "Python 3"
    },
    "language_info": {
      "name": "python"
    },
    "accelerator": "GPU"
  },
  "cells": [
    {
      "cell_type": "markdown",
      "metadata": {
        "id": "view-in-github",
        "colab_type": "text"
      },
      "source": [
        "<a href=\"https://colab.research.google.com/github/holehole5566/master-thesis/blob/main/audioldm2.ipynb\" target=\"_parent\"><img src=\"https://colab.research.google.com/assets/colab-badge.svg\" alt=\"Open In Colab\"/></a>"
      ]
    },
    {
      "cell_type": "code",
      "execution_count": null,
      "metadata": {
        "id": "uxsSqQ4vbQTJ"
      },
      "outputs": [],
      "source": [
        "!pip install --upgrade git+https://github.com/huggingface/diffusers.git transformers accelerate"
      ]
    },
    {
      "cell_type": "code",
      "source": [
        "from diffusers import AudioLDM2Pipeline\n",
        "import torch\n",
        "import scipy\n",
        "\n",
        "repo_id = \"cvssp/audioldm2-music\"\n",
        "pipe = AudioLDM2Pipeline.from_pretrained(repo_id, torch_dtype = torch.float16)\n",
        "pipe = pipe.to(\"cuda\")\n",
        "\n",
        "prompt = \"Techno music with a strong, upbeat tempo and high melodic riffs.\"\n",
        "for i in range(3):\n",
        "  audio = pipe(prompt, num_inference_steps = 200, audio_length_in_s = 20.0).audios[0]\n",
        "  scipy.io.wavfile.write(str(i) + \".wav\", rate = 16000, data = audio)"
      ],
      "metadata": {
        "id": "m2TZggynbVso"
      },
      "execution_count": null,
      "outputs": []
    },
    {
      "cell_type": "code",
      "source": [
        "#zip music files\n",
        "import os\n",
        "import zipfile\n",
        "mood = \"relaxed\"\n",
        "def compress_wav_to_zip(directory_path, zip_file_path):\n",
        "    with zipfile.ZipFile(zip_file_path, 'w') as zipf:\n",
        "        for root, dirs, files in os.walk(directory_path):\n",
        "            for file in files:\n",
        "                if file.endswith(\".wav\"):\n",
        "                    file_path = os.path.join(root, file)\n",
        "                    arcname = os.path.relpath(file_path, os.path.join(directory_path, '..'))\n",
        "                    zipf.write(file_path, arcname)\n",
        "compress_wav_to_zip(\"/\", mood + \".zip\")"
      ],
      "metadata": {
        "id": "UXq29In-dFGC"
      },
      "execution_count": 4,
      "outputs": []
    },
    {
      "cell_type": "code",
      "source": [
        "from google.colab import files\n",
        "files.download(mood + \".zip\")"
      ],
      "metadata": {
        "id": "_fm6uqL8dJdr",
        "outputId": "b8ee0c7a-374c-42e5-fd78-58ce0f681614",
        "colab": {
          "base_uri": "https://localhost:8080/",
          "height": 17
        }
      },
      "execution_count": 5,
      "outputs": [
        {
          "output_type": "display_data",
          "data": {
            "text/plain": [
              "<IPython.core.display.Javascript object>"
            ],
            "application/javascript": [
              "\n",
              "    async function download(id, filename, size) {\n",
              "      if (!google.colab.kernel.accessAllowed) {\n",
              "        return;\n",
              "      }\n",
              "      const div = document.createElement('div');\n",
              "      const label = document.createElement('label');\n",
              "      label.textContent = `Downloading \"${filename}\": `;\n",
              "      div.appendChild(label);\n",
              "      const progress = document.createElement('progress');\n",
              "      progress.max = size;\n",
              "      div.appendChild(progress);\n",
              "      document.body.appendChild(div);\n",
              "\n",
              "      const buffers = [];\n",
              "      let downloaded = 0;\n",
              "\n",
              "      const channel = await google.colab.kernel.comms.open(id);\n",
              "      // Send a message to notify the kernel that we're ready.\n",
              "      channel.send({})\n",
              "\n",
              "      for await (const message of channel.messages) {\n",
              "        // Send a message to notify the kernel that we're ready.\n",
              "        channel.send({})\n",
              "        if (message.buffers) {\n",
              "          for (const buffer of message.buffers) {\n",
              "            buffers.push(buffer);\n",
              "            downloaded += buffer.byteLength;\n",
              "            progress.value = downloaded;\n",
              "          }\n",
              "        }\n",
              "      }\n",
              "      const blob = new Blob(buffers, {type: 'application/binary'});\n",
              "      const a = document.createElement('a');\n",
              "      a.href = window.URL.createObjectURL(blob);\n",
              "      a.download = filename;\n",
              "      div.appendChild(a);\n",
              "      a.click();\n",
              "      div.remove();\n",
              "    }\n",
              "  "
            ]
          },
          "metadata": {}
        },
        {
          "output_type": "display_data",
          "data": {
            "text/plain": [
              "<IPython.core.display.Javascript object>"
            ],
            "application/javascript": [
              "download(\"download_56750bd7-2c49-47ed-bbc7-db39b2359c68\", \"relaxed.zip\", 5833032)"
            ]
          },
          "metadata": {}
        }
      ]
    }
  ]
}