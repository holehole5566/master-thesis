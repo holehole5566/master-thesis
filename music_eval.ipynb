{
  "cells": [
    {
      "cell_type": "markdown",
      "metadata": {
        "id": "view-in-github",
        "colab_type": "text"
      },
      "source": [
        "<a href=\"https://colab.research.google.com/github/holehole5566/master-thesis/blob/main/music_eval.ipynb\" target=\"_parent\"><img src=\"https://colab.research.google.com/assets/colab-badge.svg\" alt=\"Open In Colab\"/></a>"
      ]
    },
    {
      "cell_type": "code",
      "execution_count": null,
      "metadata": {
        "id": "ku0ui5lKwpF7"
      },
      "outputs": [],
      "source": [
        "# install\n",
        "%cd /content\n",
        "!git clone https://github.com/holehole5566/audioldm_eval.git\n",
        "%cd /content/audioldm_eval\n",
        "!pip install -r requirement.txt"
      ]
    },
    {
      "cell_type": "code",
      "source": [
        "!python gen_test_file.py"
      ],
      "metadata": {
        "id": "9ejVwEoNDrni"
      },
      "execution_count": null,
      "outputs": []
    },
    {
      "cell_type": "code",
      "source": [
        "!python test.py"
      ],
      "metadata": {
        "id": "HvVmBamwD0X0"
      },
      "execution_count": null,
      "outputs": []
    }
  ],
  "metadata": {
    "accelerator": "GPU",
    "colab": {
      "provenance": [],
      "private_outputs": true,
      "gpuType": "T4",
      "include_colab_link": true
    },
    "kernelspec": {
      "display_name": "Python 3",
      "name": "python3"
    },
    "language_info": {
      "name": "python"
    }
  },
  "nbformat": 4,
  "nbformat_minor": 0
}