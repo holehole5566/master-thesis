{
  "cells": [
    {
      "cell_type": "markdown",
      "metadata": {
        "id": "view-in-github",
        "colab_type": "text"
      },
      "source": [
        "<a href=\"https://colab.research.google.com/github/holehole5566/master-thesis/blob/main/musicgen.ipynb\" target=\"_parent\"><img src=\"https://colab.research.google.com/assets/colab-badge.svg\" alt=\"Open In Colab\"/></a>"
      ]
    },
    {
      "cell_type": "code",
      "execution_count": null,
      "metadata": {
        "id": "ku0ui5lKwpF7"
      },
      "outputs": [],
      "source": [
        "# install\n",
        "%cd /content\n",
        "!git clone https://github.com/facebookresearch/audiocraft\n",
        "%cd /content/audiocraft\n",
        "!pip install -r requirements.txt"
      ]
    },
    {
      "cell_type": "code",
      "execution_count": null,
      "metadata": {
        "id": "NJXpj7lyYjve"
      },
      "outputs": [],
      "source": [
        "# generate music\n",
        "import torchaudio\n",
        "import torch\n",
        "from audiocraft.models import MusicGen\n",
        "from audiocraft.data.audio import audio_write\n",
        "mood = \"happy\"\n",
        "torch.cuda.empty_cache()\n",
        "model = MusicGen.get_pretrained('medium')\n",
        "model.set_generation_params(duration = 30)  # generate 20 seconds.\n",
        "prompt = \"a relaxed music\"\n",
        "descriptions = []\n",
        "descriptions.append(prompt)\n",
        "for i in range(100):\n",
        "    wav = model.generate(descriptions) # generate 100 pieces of music.\n",
        "    for idx, one_wav in enumerate(wav):\n",
        "    # Will save under {idx}.wav, with loudness normalization at -14 db LUFS.\n",
        "        audio_write(f'{i}', one_wav.cpu(), model.sample_rate, strategy=\"loudness\", loudness_compressor=True)\n",
        "        print(str(i)+\"th finished\")"
      ]
    },
    {
      "cell_type": "code",
      "execution_count": null,
      "metadata": {
        "id": "B24TkI7vCnfM"
      },
      "outputs": [],
      "source": [
        "#zip music files\n",
        "import os\n",
        "import zipfile\n",
        "def compress_wav_to_zip(directory_path, zip_file_path):\n",
        "    with zipfile.ZipFile(zip_file_path, 'w') as zipf:\n",
        "        for root, dirs, files in os.walk(directory_path):\n",
        "            for file in files:\n",
        "                if file.endswith(\".wav\"):\n",
        "                    file_path = os.path.join(root, file)\n",
        "                    arcname = os.path.relpath(file_path, os.path.join(directory_path, '..'))\n",
        "                    zipf.write(file_path, arcname)\n",
        "compress_wav_to_zip(\"/\", mood + \".zip\")"
      ]
    },
    {
      "cell_type": "code",
      "source": [
        "from google.colab import files\n",
        "files.download(mood + \".zip\")"
      ],
      "metadata": {
        "colab": {
          "base_uri": "https://localhost:8080/",
          "height": 34
        },
        "id": "zg3ZoXYL4SR7",
        "outputId": "714ccf74-ecf8-4f0c-cc64-c491f9e36280"
      },
      "execution_count": null,
      "outputs": [
        {
          "output_type": "display_data",
          "data": {
            "text/plain": [
              "<IPython.core.display.Javascript object>"
            ],
            "application/javascript": [
              "\n",
              "    async function download(id, filename, size) {\n",
              "      if (!google.colab.kernel.accessAllowed) {\n",
              "        return;\n",
              "      }\n",
              "      const div = document.createElement('div');\n",
              "      const label = document.createElement('label');\n",
              "      label.textContent = `Downloading \"${filename}\": `;\n",
              "      div.appendChild(label);\n",
              "      const progress = document.createElement('progress');\n",
              "      progress.max = size;\n",
              "      div.appendChild(progress);\n",
              "      document.body.appendChild(div);\n",
              "\n",
              "      const buffers = [];\n",
              "      let downloaded = 0;\n",
              "\n",
              "      const channel = await google.colab.kernel.comms.open(id);\n",
              "      // Send a message to notify the kernel that we're ready.\n",
              "      channel.send({})\n",
              "\n",
              "      for await (const message of channel.messages) {\n",
              "        // Send a message to notify the kernel that we're ready.\n",
              "        channel.send({})\n",
              "        if (message.buffers) {\n",
              "          for (const buffer of message.buffers) {\n",
              "            buffers.push(buffer);\n",
              "            downloaded += buffer.byteLength;\n",
              "            progress.value = downloaded;\n",
              "          }\n",
              "        }\n",
              "      }\n",
              "      const blob = new Blob(buffers, {type: 'application/binary'});\n",
              "      const a = document.createElement('a');\n",
              "      a.href = window.URL.createObjectURL(blob);\n",
              "      a.download = filename;\n",
              "      div.appendChild(a);\n",
              "      a.click();\n",
              "      div.remove();\n",
              "    }\n",
              "  "
            ]
          },
          "metadata": {}
        },
        {
          "output_type": "display_data",
          "data": {
            "text/plain": [
              "<IPython.core.display.Javascript object>"
            ],
            "application/javascript": [
              "download(\"download_b619aa6a-642e-498c-8d46-ec40bdf20755\", \"music.zip\", 130060296)"
            ]
          },
          "metadata": {}
        }
      ]
    }
  ],
  "metadata": {
    "accelerator": "GPU",
    "colab": {
      "provenance": [],
      "include_colab_link": true
    },
    "kernelspec": {
      "display_name": "Python 3",
      "name": "python3"
    },
    "language_info": {
      "name": "python"
    }
  },
  "nbformat": 4,
  "nbformat_minor": 0
}