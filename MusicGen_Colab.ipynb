{
  "nbformat": 4,
  "nbformat_minor": 0,
  "metadata": {
    "colab": {
      "provenance": [],
      "gpuType": "T4",
      "include_colab_link": true
    },
    "kernelspec": {
      "name": "python3",
      "display_name": "Python 3"
    },
    "language_info": {
      "name": "python"
    },
    "accelerator": "GPU"
  },
  "cells": [
    {
      "cell_type": "markdown",
      "metadata": {
        "id": "view-in-github",
        "colab_type": "text"
      },
      "source": [
        "<a href=\"https://colab.research.google.com/github/holehole5566/master-thesis/blob/main/MusicGen_Colab.ipynb\" target=\"_parent\"><img src=\"https://colab.research.google.com/assets/colab-badge.svg\" alt=\"Open In Colab\"/></a>"
      ]
    },
    {
      "cell_type": "code",
      "source": [
        "# install\n",
        "%cd /content\n",
        "!git clone https://github.com/facebookresearch/audiocraft\n",
        "%cd /content/audiocraft\n",
        "!pip install -r requirements.txt"
      ],
      "metadata": {
        "id": "ku0ui5lKwpF7"
      },
      "execution_count": null,
      "outputs": []
    },
    {
      "cell_type": "code",
      "source": [
        "# generate music\n",
        "import torchaudio\n",
        "import torch\n",
        "from audiocraft.models import MusicGen\n",
        "from audiocraft.data.audio import audio_write\n",
        "torch.cuda.empty_cache()\n",
        "model = MusicGen.get_pretrained('small')\n",
        "model.set_generation_params(duration = 30)  # generate 30 seconds.\n",
        "prompt = \"Create a serene and calming musical composition with very low intensity, soft timbre, low pitch, and an extremely slow, tranquil rhythm to convey a profound sense of relaxation and peacefulness in the music.\"\n",
        "descriptions = []\n",
        "descriptions.append(prompt)\n",
        "for i in range(100):\n",
        "    wav = model.generate(descriptions) # generate 100 pieces of music.\n",
        "    for idx, one_wav in enumerate(wav):\n",
        "    # Will save under {idx}.wav, with loudness normalization at -14 db LUFS.\n",
        "        audio_write(f'{i}', one_wav.cpu(), model.sample_rate, strategy=\"loudness\", loudness_compressor=True)"
      ],
      "metadata": {
        "id": "NJXpj7lyYjve"
      },
      "execution_count": null,
      "outputs": []
    },
    {
      "cell_type": "code",
      "source": [
        "#zip music files\n",
        "import os\n",
        "import zipfile\n",
        "def compress_wav_to_zip(directory_path, zip_file_path):\n",
        "    with zipfile.ZipFile(zip_file_path, 'w') as zipf:\n",
        "        for root, dirs, files in os.walk(directory_path):\n",
        "            for file in files:\n",
        "                if file.endswith(\".wav\"):\n",
        "                    file_path = os.path.join(root, file)\n",
        "                    arcname = os.path.relpath(file_path, os.path.join(directory_path, '..'))\n",
        "                    zipf.write(file_path, arcname)\n",
        "compress_wav_to_zip(\"/\", \"music.zip\")"
      ],
      "metadata": {
        "id": "B24TkI7vCnfM"
      },
      "execution_count": null,
      "outputs": []
    }
  ]
}